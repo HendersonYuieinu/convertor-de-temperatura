{
 "cells": [
  {
   "cell_type": "markdown",
   "id": "1dd3417a",
   "metadata": {},
   "source": [
    "Funções para conversão"
   ]
  },
  {
   "cell_type": "code",
   "execution_count": 1,
   "id": "d16c1117",
   "metadata": {},
   "outputs": [],
   "source": [
    "#criação de funções para realizar a conversão\n",
    "def convertor_Celsius():  #função para converter o Fahrenheit para o Celsius e imprimir na tela o resultado\n",
    "    \n",
    "    grau = float(entry.get()) #entrada dos dados\n",
    "    \n",
    "    Celsi = ((grau-32)/9)*5  #formula final para converter em Celsius, usada na aula\n",
    "    \n",
    "    resultado = f'''\\ncovertido em Celsius = {Celsi:.1f}°C'''\n",
    "    \n",
    "    #apresentação do resultado na Janela\n",
    "    result['text'] = resultado\n",
    "\n",
    "\n",
    "def convertor_Fahrenheit(): #função para converter o Celsius para Fahrenheit e imprimir na tela o resultado\n",
    "    \n",
    "    grau = float(entry.get()) #entrada dos dados\n",
    "    \n",
    "    Fah = (grau/5)*9+32  #formula final para converter em Fahrenheit, usado na aula\n",
    "    \n",
    "    resultado = f'''\\nconvertido em Fahrenheit = {Fah:.1f}°F'''\n",
    "    \n",
    "    result['text'] = resultado #apresentação do resultado na Janela\n"
   ]
  },
  {
   "cell_type": "markdown",
   "id": "322a2dcd",
   "metadata": {},
   "source": [
    "Criação da Janela"
   ]
  },
  {
   "cell_type": "code",
   "execution_count": 13,
   "id": "fca5acb1",
   "metadata": {},
   "outputs": [],
   "source": [
    "import tkinter as tk\n",
    "\n",
    "janela = tk.Tk() #criação da janela\n",
    "\n",
    "janela.title('Conversor de Temperatura')\n",
    "janela.geometry('300x150')\n",
    "\n",
    "text = tk.Label(janela, text='Digite para Converter')\n",
    "text.grid(column=1, row=0, padx=90, pady=5)\n",
    "\n",
    "#entrada de dados(o numero a ser convertido)\n",
    "entry = tk.Entry(janela) \n",
    "entry.grid(column=1, row=1, padx=50)\n",
    "\n",
    "#botão para converter em celsius\n",
    "botao1 = tk.Button(janela, text='Celsius', command=convertor_Celsius, activebackground='red', borderwidth=3)\n",
    "botao1.grid(column=1, row=2)\n",
    "\n",
    "#botao para converter em fahrenheit\n",
    "botao2 = tk.Button(janela, text='Fahrenheit', command=convertor_Fahrenheit, activebackground='red',borderwidth=3)\n",
    "botao2.grid(column=1, row=3)\n",
    "\n",
    "#apresentação do resultado\n",
    "result = tk.Label(janela, text='')\n",
    "result.grid(column=1, row=5)\n",
    "\n",
    "janela.tk.mainloop()"
   ]
  },
  {
   "cell_type": "code",
   "execution_count": null,
   "id": "91c3b1d7",
   "metadata": {},
   "outputs": [],
   "source": []
  },
  {
   "cell_type": "code",
   "execution_count": null,
   "id": "e0a30442",
   "metadata": {},
   "outputs": [],
   "source": []
  }
 ],
 "metadata": {
  "kernelspec": {
   "display_name": "Python 3 (ipykernel)",
   "language": "python",
   "name": "python3"
  },
  "language_info": {
   "codemirror_mode": {
    "name": "ipython",
    "version": 3
   },
   "file_extension": ".py",
   "mimetype": "text/x-python",
   "name": "python",
   "nbconvert_exporter": "python",
   "pygments_lexer": "ipython3",
   "version": "3.9.13"
  }
 },
 "nbformat": 4,
 "nbformat_minor": 5
}
